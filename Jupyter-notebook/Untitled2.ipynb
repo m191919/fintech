{
 "cells": [
  {
   "cell_type": "code",
   "execution_count": 1,
   "id": "4d72ca3e",
   "metadata": {},
   "outputs": [
    {
     "ename": "IndentationError",
     "evalue": "unexpected indent (1512146632.py, line 2)",
     "output_type": "error",
     "traceback": [
      "\u001b[0;36m  File \u001b[0;32m\"/var/folders/1f/k19b_x_j235927z5vgk2kk4r0000gn/T/ipykernel_6777/1512146632.py\"\u001b[0;36m, line \u001b[0;32m2\u001b[0m\n\u001b[0;31m    banks = {\u001b[0m\n\u001b[0m    ^\u001b[0m\n\u001b[0;31mIndentationError\u001b[0m\u001b[0;31m:\u001b[0m unexpected indent\n"
     ]
    }
   ],
   "source": [
    "# Initialize a dictionary of banks and market caps (in billions)\n",
    "  banks = {\n",
    "  \"JP Morgan Chase\": 327,\n",
    "  \"Bank of America\": 302,\n",
    "  \"Citigroup\": 173,\n",
    "  \"Wells Fargo\": 273,\n",
    "  \"Goldman Sachs\": 87,\n",
    "  \"Morgan Stanley\": 72,\n",
    "  \"U.S. Bancorp\": 83,\n",
    "  \"TD Bank\": 108,\n",
    "  \"PNC Financial Services\": 67,\n",
    "  \"Capital One\": 47,\n",
    "  \"FNB Corporation\": 4,\n",
    "  \"First Hawaiian Bank\": 3,\n",
    "  \"Ally Financial\": 12,\n",
    "  \"Wachovia\": 145,\n",
    "  \"Republic Bancorp\": .97\n",
    "  }"
   ]
  },
  {
   "cell_type": "code",
   "execution_count": null,
   "id": "3a5ddf33",
   "metadata": {},
   "outputs": [],
   "source": []
  }
 ],
 "metadata": {
  "kernelspec": {
   "display_name": "Python 3 (ipykernel)",
   "language": "python",
   "name": "python3"
  },
  "language_info": {
   "codemirror_mode": {
    "name": "ipython",
    "version": 3
   },
   "file_extension": ".py",
   "mimetype": "text/x-python",
   "name": "python",
   "nbconvert_exporter": "python",
   "pygments_lexer": "ipython3",
   "version": "3.9.7"
  }
 },
 "nbformat": 4,
 "nbformat_minor": 5
}
