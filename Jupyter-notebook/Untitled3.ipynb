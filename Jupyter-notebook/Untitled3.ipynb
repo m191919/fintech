{
 "cells": [
  {
   "cell_type": "code",
   "execution_count": 4,
   "id": "5d9fad69",
   "metadata": {},
   "outputs": [],
   "source": [
    "# Initialize a dictionary of banks and market caps (in billions)\n",
    "\n",
    "\n",
    "banks = {\n",
    "    \"National Bank of Canada\": 327,\n",
    "    \"Toronto-Dominion Bank\": 302,\n",
    "    \"Royal Bank of Canada\": 173,\n",
    "    \"Wells Fargo\": 273,\n",
    "    \"Goldman Sachs\": 87,\n",
    "    \"Morgan Stanley\": 72,\n",
    "    \"Canadian Imperial Bank of Commerce\": 83,\n",
    "    \"TD Bank\": 108,\n",
    "    \"Bank of Montreal\": 67,\n",
    "    \"Capital One\": 47,\n",
    "    \"FNB Corporation\": 4,\n",
    "    \"Laurentian Bank of Canada\": 3,\n",
    "    \"Ally Financial\": 12,\n",
    "    \"Montreal Trust Company\": 145,\n",
    "    \"Canadian Western Bank\": .97\n",
    "}\n",
    "\n",
    "\n",
    "# Change Market Cap\n",
    "\n",
    "banks[\"Royal Bank of Canada\"]= 170\n",
    "\n",
    "# Add New Bank \n",
    "\n",
    "banks[\"Scotiabank\"]= 33\n",
    "\n",
    "# Delete Bank\n",
    "\n",
    "del banks[\"Montreal Trust Company\"]\n",
    "\n"
   ]
  },
  {
   "cell_type": "code",
   "execution_count": 9,
   "id": "77b547b4",
   "metadata": {},
   "outputs": [
    {
     "name": "stdout",
     "output_type": "stream",
     "text": [
      "{'National Bank of Canada': 327, 'Toronto-Dominion Bank': 302, 'Royal Bank of Canada': 170, 'Wells Fargo': 273, 'Goldman Sachs': 87, 'Morgan Stanley': 72, 'Canadian Imperial Bank of Commerce': 83, 'TD Bank': 108, 'Bank of Montreal': 67, 'Capital One': 47, 'FNB Corporation': 4, 'Laurentian Bank of Canada': 3, 'Ally Financial': 12, 'Canadian Western Bank': 0.97, 'Scotiabank': 33}\n"
     ]
    }
   ],
   "source": [
    "print(banks)"
   ]
  },
  {
   "cell_type": "code",
   "execution_count": null,
   "id": "32792b1d",
   "metadata": {},
   "outputs": [],
   "source": [
    "## Challenge\n",
    "\n",
    "Total_Market_Cap\n",
    "\n",
    "\n",
    " \n",
    "Total_Market_Cap = sum(banks)\n",
    "Total_Number_Banks = len(banks)\n",
    "Average_Market_Cap = (Total_Market_Cap / Total_Number_Banks)\n",
    "Largest_Bank="
   ]
  }
 ],
 "metadata": {
  "kernelspec": {
   "display_name": "Python 3 (ipykernel)",
   "language": "python",
   "name": "python3"
  },
  "language_info": {
   "codemirror_mode": {
    "name": "ipython",
    "version": 3
   },
   "file_extension": ".py",
   "mimetype": "text/x-python",
   "name": "python",
   "nbconvert_exporter": "python",
   "pygments_lexer": "ipython3",
   "version": "3.9.7"
  }
 },
 "nbformat": 4,
 "nbformat_minor": 5
}
