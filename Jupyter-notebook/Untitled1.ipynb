{
 "cells": [
  {
   "cell_type": "code",
   "execution_count": 1,
   "id": "ff3cf7ab",
   "metadata": {},
   "outputs": [
    {
     "ename": "NameError",
     "evalue": "name 'tradin_pnl' is not defined",
     "output_type": "error",
     "traceback": [
      "\u001b[0;31m---------------------------------------------------------------------------\u001b[0m",
      "\u001b[0;31mNameError\u001b[0m                                 Traceback (most recent call last)",
      "\u001b[0;32m/var/folders/1f/k19b_x_j235927z5vgk2kk4r0000gn/T/ipykernel_6703/516371844.py\u001b[0m in \u001b[0;36m<module>\u001b[0;34m\u001b[0m\n\u001b[1;32m     17\u001b[0m \u001b[0;31m# @TODO: Initialize lists to hold profitable and unprofitable day profits/losses\u001b[0m\u001b[0;34m\u001b[0m\u001b[0;34m\u001b[0m\u001b[0m\n\u001b[1;32m     18\u001b[0m \u001b[0;34m\u001b[0m\u001b[0m\n\u001b[0;32m---> 19\u001b[0;31m \u001b[0;32mfor\u001b[0m \u001b[0mfunds\u001b[0m \u001b[0;32min\u001b[0m \u001b[0mtradin_pnl\u001b[0m\u001b[0;34m:\u001b[0m\u001b[0;34m\u001b[0m\u001b[0;34m\u001b[0m\u001b[0m\n\u001b[0m\u001b[1;32m     20\u001b[0m     \u001b[0mtotal\u001b[0m \u001b[0;34m=\u001b[0m \u001b[0msum\u001b[0m\u001b[0;34m(\u001b[0m\u001b[0mfunds\u001b[0m\u001b[0;34m)\u001b[0m\u001b[0;34m\u001b[0m\u001b[0;34m\u001b[0m\u001b[0m\n\u001b[1;32m     21\u001b[0m     \u001b[0mcount\u001b[0m \u001b[0;34m=\u001b[0m \u001b[0;34m+\u001b[0m\u001b[0;36m1\u001b[0m\u001b[0;34m\u001b[0m\u001b[0;34m\u001b[0m\u001b[0m\n",
      "\u001b[0;31mNameError\u001b[0m: name 'tradin_pnl' is not defined"
     ]
    }
   ],
   "source": [
    "\"\"\"\n",
    "Student Do: Trading Log.\n",
    "\n",
    "This script demonstrates how to perform basic analysis of trading profits/losses\n",
    "over the course of a month (20 business days).\n",
    "\"\"\"\n",
    "\n",
    "# @TODO: Initialize the metric variables\n",
    "\n",
    "total=0\n",
    "count=0\n",
    "average=0\n",
    "maximum=0\n",
    "minimum=0\n",
    "\n",
    "\n",
    "# @TODO: Initialize lists to hold profitable and unprofitable day profits/losses\n",
    "\n",
    "profitable_days\n",
    "\n",
    "\n",
    "\n",
    "# List of trading profits/losses\n",
    "trading_pnl = [ -224,  352, 252, 354, -544,\n",
    "                -650,   56, 123, -43,  254,\n",
    "                 325, -123,  47, 321,  123,\n",
    "                 133, -151, 613, 232, -311 ]\n",
    "\n",
    "# @TODO: Iterate over each element of the list\n",
    "\n",
    "\n",
    "for funds in tradin_pnl:\n",
    "    total = sum(funds)\n",
    "    count = +1\n",
    "    # @TODO: Cumulatively sum up the total and count\n",
    "    \n",
    "        \n",
    "\n",
    "\n",
    "    # @TODO: Write logic to determine minimum and maximum values\n",
    "\n",
    "\n",
    "\n",
    "\n",
    "\n",
    "\n",
    "    # @TODO: Write logic to determine profitable vs. unprofitable days\n",
    "\n",
    "\n",
    "\n",
    "\n",
    "\n",
    "# @TODO: Calculate the average\n",
    "\n",
    "\n",
    "# @TODO: Calculate count metrics\n",
    "\n",
    "\n",
    "# @TODO: Calculate percentage metrics\n",
    "\n",
    "\n",
    "\n",
    "# @TODO: Print out the summary statistics\n",
    "\n"
   ]
  }
 ],
 "metadata": {
  "kernelspec": {
   "display_name": "Python 3 (ipykernel)",
   "language": "python",
   "name": "python3"
  },
  "language_info": {
   "codemirror_mode": {
    "name": "ipython",
    "version": 3
   },
   "file_extension": ".py",
   "mimetype": "text/x-python",
   "name": "python",
   "nbconvert_exporter": "python",
   "pygments_lexer": "ipython3",
   "version": "3.9.7"
  }
 },
 "nbformat": 4,
 "nbformat_minor": 5
}
